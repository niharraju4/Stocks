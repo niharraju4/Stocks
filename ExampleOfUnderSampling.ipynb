{
 "cells": [
  {
   "cell_type": "code",
   "execution_count": 2,
   "id": "2d7cd393-f348-4d59-a51f-558cd90bbb08",
   "metadata": {},
   "outputs": [
    {
     "name": "stdout",
     "output_type": "stream",
     "text": [
      "Before undersampling:\n",
      "Number of samples in each class in the training set:\n",
      "Class 0: 87\n",
      "Class 1: 713\n",
      "\n",
      "After undersampling:\n",
      "Number of samples in each class in the training set after oversampling:\n",
      "Class 0: 87\n",
      "Class 1: 87\n"
     ]
    }
   ],
   "source": [
    "import numpy as np\n",
    "from sklearn.datasets import make_classification\n",
    "from sklearn.model_selection import train_test_split\n",
    "from imblearn.under_sampling import RandomUnderSampler\n",
    "\n",
    "# Generate imbalanced data\n",
    "X, y = make_classification(\n",
    "    n_classes=2, class_sep=2, weights=[0.1, 0.9], n_informative=3, n_redundant=1, flip_y=0, n_features=20, n_clusters_per_class=1, n_samples=1000, random_state=42\n",
    ")\n",
    "\n",
    "# Split data into train and test sets\n",
    "X_train, X_test, y_train, y_test = train_test_split(X, y, test_size=0.2, random_state=42)\n",
    "\n",
    "print(\"Before undersampling:\")\n",
    "print(\"Number of samples in each class in the training set:\")\n",
    "print(\"Class 0:\", sum(y_train == 0))\n",
    "print(\"Class 1:\", sum(y_train == 1))\n",
    "\n",
    "# Apply oversampling to the training set\n",
    "oversampler = RandomUnderSampler(random_state=42)\n",
    "X_train_resampled, y_train_resampled = oversampler.fit_resample(X_train, y_train)\n",
    "\n",
    "print(\"\\nAfter undersampling:\")\n",
    "print(\"Number of samples in each class in the training set after oversampling:\")\n",
    "print(\"Class 0:\", sum(y_train_resampled == 0))\n",
    "print(\"Class 1:\", sum(y_train_resampled == 1))\n"
   ]
  },
  {
   "cell_type": "code",
   "execution_count": null,
   "id": "e4ba7596-66e2-4232-afeb-079c302e6eef",
   "metadata": {},
   "outputs": [],
   "source": []
  }
 ],
 "metadata": {
  "kernelspec": {
   "display_name": "Python 3 (ipykernel)",
   "language": "python",
   "name": "python3"
  },
  "language_info": {
   "codemirror_mode": {
    "name": "ipython",
    "version": 3
   },
   "file_extension": ".py",
   "mimetype": "text/x-python",
   "name": "python",
   "nbconvert_exporter": "python",
   "pygments_lexer": "ipython3",
   "version": "3.7.13"
  }
 },
 "nbformat": 4,
 "nbformat_minor": 5
}
